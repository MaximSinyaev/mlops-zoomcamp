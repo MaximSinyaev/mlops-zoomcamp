{
 "cells": [
  {
   "cell_type": "code",
   "execution_count": 1,
   "id": "41062d8a",
   "metadata": {},
   "outputs": [],
   "source": [
    "import numpy as np\n",
    "import pandas as pd"
   ]
  },
  {
   "cell_type": "code",
   "execution_count": 2,
   "id": "c984c564",
   "metadata": {},
   "outputs": [],
   "source": [
    "import pickle"
   ]
  },
  {
   "cell_type": "code",
   "execution_count": 3,
   "id": "4add538c",
   "metadata": {},
   "outputs": [],
   "source": [
    "import seaborn as sns\n",
    "import matplotlib.pyplot as plt"
   ]
  },
  {
   "cell_type": "code",
   "execution_count": 4,
   "id": "8b135c2b",
   "metadata": {},
   "outputs": [],
   "source": [
    "from sklearn.feature_extraction import DictVectorizer\n",
    "from sklearn.linear_model import LinearRegression\n",
    "from sklearn.linear_model import Lasso\n",
    "from sklearn.linear_model import Ridge\n",
    "\n",
    "from sklearn.metrics import mean_squared_error"
   ]
  },
  {
   "cell_type": "code",
   "execution_count": 46,
   "id": "8e013caf",
   "metadata": {},
   "outputs": [],
   "source": [
    "train_df = pd.read_parquet('../data/fhv_tripdata_2021-01.parquet')\n",
    "val_df = pd.read_parquet('../data/fhv_tripdata_2021-02.parquet')\n"
   ]
  },
  {
   "cell_type": "markdown",
   "id": "1c0cc209-265e-4db0-a900-0d55f1bed3ac",
   "metadata": {},
   "source": [
    "### Q1. Downloading the data\n",
    "We'll use the same NYC taxi dataset, but instead of \"Green Taxi Trip Records\", we'll use \"For-Hire Vehicle Trip Records\"\n",
    "\n",
    "Download the data for January and February 2021\n",
    "\n",
    "Note that you need \"For-Hire Vehicle Trip Records\", not \"High Volume For-Hire Vehicle Trip Records\".\n",
    "\n",
    "Read the data for January. How many records are there?"
   ]
  },
  {
   "cell_type": "code",
   "execution_count": 47,
   "id": "e0ef296a-1981-438e-8417-1cdf88edf4e0",
   "metadata": {},
   "outputs": [
    {
     "name": "stdout",
     "output_type": "stream",
     "text": [
      "<class 'pandas.core.frame.DataFrame'>\n",
      "RangeIndex: 1154112 entries, 0 to 1154111\n",
      "Data columns (total 7 columns):\n",
      " #   Column                  Non-Null Count    Dtype         \n",
      "---  ------                  --------------    -----         \n",
      " 0   dispatching_base_num    1154112 non-null  object        \n",
      " 1   pickup_datetime         1154112 non-null  datetime64[ns]\n",
      " 2   dropOff_datetime        1154112 non-null  datetime64[ns]\n",
      " 3   PUlocationID            195845 non-null   float64       \n",
      " 4   DOlocationID            991892 non-null   float64       \n",
      " 5   SR_Flag                 0 non-null        object        \n",
      " 6   Affiliated_base_number  1153227 non-null  object        \n",
      "dtypes: datetime64[ns](2), float64(2), object(3)\n",
      "memory usage: 61.6+ MB\n"
     ]
    }
   ],
   "source": [
    "train_df.info()"
   ]
  },
  {
   "cell_type": "code",
   "execution_count": 48,
   "id": "f2afaf48-33e4-4dbd-917e-798f19f73e70",
   "metadata": {},
   "outputs": [
    {
     "data": {
      "text/plain": [
       "(1154112, 7)"
      ]
     },
     "execution_count": 48,
     "metadata": {},
     "output_type": "execute_result"
    }
   ],
   "source": [
    "train_df.shape"
   ]
  },
  {
   "cell_type": "markdown",
   "id": "5461b5e5-acd2-40c5-bbd9-322d87b65a98",
   "metadata": {},
   "source": [
    "### Q2. Computing duration\n",
    "Now let's compute the duration variable. It should contain the duration of a ride in minutes.\n",
    "\n",
    "What's the average trip duration in January?"
   ]
  },
  {
   "cell_type": "code",
   "execution_count": 49,
   "id": "bac08320-def0-4599-b68c-5361dd7b35b4",
   "metadata": {},
   "outputs": [],
   "source": [
    "train_df['duration'] = train_df['dropOff_datetime'] - train_df['pickup_datetime']\n",
    "\n",
    "train_df['duration_min'] = train_df['duration'].dt.total_seconds() / 60"
   ]
  },
  {
   "cell_type": "code",
   "execution_count": 50,
   "id": "2ee073c3-f854-43a9-92e0-283a88bdba27",
   "metadata": {},
   "outputs": [
    {
     "data": {
      "text/plain": [
       "19.167224093791006"
      ]
     },
     "execution_count": 50,
     "metadata": {},
     "output_type": "execute_result"
    }
   ],
   "source": [
    "train_df.duration_min.mean()"
   ]
  },
  {
   "cell_type": "markdown",
   "id": "b97ed33e-7ad2-4f73-97f3-707439eca299",
   "metadata": {},
   "source": [
    "### Data preparation\n",
    "Check the distribution of the duration variable. There are some outliners.\n",
    "\n",
    "Let's remove them and keep only the records where the duration was between 1 and 60 minutes (inclusive).\n",
    "\n",
    "How many records did you drop?\n",
    "\n"
   ]
  },
  {
   "cell_type": "code",
   "execution_count": 51,
   "id": "95c3aabf-836b-4533-be71-8f2ff3d90309",
   "metadata": {},
   "outputs": [],
   "source": [
    "train_df_filtered = train_df.query('duration_min >= 1. and duration_min <= 60.')"
   ]
  },
  {
   "cell_type": "markdown",
   "id": "70f0686d-b6e9-470a-86b0-a8435441f2fc",
   "metadata": {},
   "source": [
    "### Q3. Missing values\n",
    "The features we'll user for our model are the pickup and dropoff location IDs.\n",
    "\n",
    "But they have a lot of missing values there. Let's replace them with \"-1\"\n",
    "\n",
    "What's the factions of missing values for the pickup location ID? (Or the fraction of \"-1\"s after you filled the NAs)"
   ]
  },
  {
   "cell_type": "code",
   "execution_count": 52,
   "id": "bdb6e54a-0b99-4b82-a3d5-9f1f1d5ef1bf",
   "metadata": {},
   "outputs": [
    {
     "data": {
      "text/plain": [
       "0.8352732770722617"
      ]
     },
     "execution_count": 52,
     "metadata": {},
     "output_type": "execute_result"
    }
   ],
   "source": [
    "# %%time\n",
    "train_df_filtered['PUlocationID'].isna().sum() / train_df_filtered.shape[0]"
   ]
  },
  {
   "cell_type": "code",
   "execution_count": 53,
   "id": "cf39589d-6abf-4d08-b45e-e1c5604ffbb1",
   "metadata": {},
   "outputs": [
    {
     "name": "stdout",
     "output_type": "stream",
     "text": [
      "CPU times: user 7.49 ms, sys: 2.15 ms, total: 9.64 ms\n",
      "Wall time: 7.01 ms\n"
     ]
    },
    {
     "data": {
      "text/plain": [
       "0.8303067639882438"
      ]
     },
     "execution_count": 53,
     "metadata": {},
     "output_type": "execute_result"
    }
   ],
   "source": [
    "%%time\n",
    "train_df['PUlocationID'].isna().sum() / train_df.shape[0]"
   ]
  },
  {
   "cell_type": "markdown",
   "id": "b375010c-a904-416f-b330-f3caeab837d4",
   "metadata": {
    "tags": []
   },
   "source": [
    "### Q4. One-hot encoding\n",
    "Let's apply one-hot encoding to the pickup and dropoff location IDs. We'll use only these two features for our model.\n",
    "\n",
    "Turn the dataframe into a list of dictionaries\n",
    "Fit a dictionary vectorizer\n",
    "Get a feature matrix from it"
   ]
  },
  {
   "cell_type": "code",
   "execution_count": 54,
   "id": "0c54217d-e6db-4f08-8c55-1a07f6066e00",
   "metadata": {},
   "outputs": [],
   "source": [
    "categorical = ['PUlocationID', 'DOlocationID']\n",
    "numerical = ['trip_distance']"
   ]
  },
  {
   "cell_type": "code",
   "execution_count": 55,
   "id": "4ddabd99-96ab-46d7-aea9-81009c55c425",
   "metadata": {},
   "outputs": [],
   "source": [
    "train_df[categorical] = train_df[categorical].fillna(-1).astype('str')"
   ]
  },
  {
   "cell_type": "code",
   "execution_count": 56,
   "id": "f80acf27-93f3-426e-be72-44bd45502fac",
   "metadata": {},
   "outputs": [],
   "source": [
    "train_df_filtered = train_df.query('duration_min >= 1. and duration_min <= 60.')"
   ]
  },
  {
   "cell_type": "code",
   "execution_count": 57,
   "id": "e72609af-d5ca-48f2-b546-a1b886cd9855",
   "metadata": {},
   "outputs": [
    {
     "name": "stdout",
     "output_type": "stream",
     "text": [
      "CPU times: user 2.2 s, sys: 80.4 ms, total: 2.28 s\n",
      "Wall time: 2.29 s\n"
     ]
    },
    {
     "data": {
      "text/plain": [
       "(1154112, 525)"
      ]
     },
     "execution_count": 57,
     "metadata": {},
     "output_type": "execute_result"
    }
   ],
   "source": [
    "%%time\n",
    "dv = DictVectorizer()\n",
    "\n",
    "X_train = dv.fit_transform(train_df[categorical].to_dict(orient='records'))\n",
    "X_train.shape"
   ]
  },
  {
   "cell_type": "code",
   "execution_count": 58,
   "id": "cce91684-e1f7-4dad-9950-26a5564a9ef7",
   "metadata": {},
   "outputs": [],
   "source": [
    "# train_df_filtered['PU_DO'] = train_df_filtered['PUlocationID'] + '_' + train_df_filtered['DOlocationID']"
   ]
  },
  {
   "cell_type": "code",
   "execution_count": 59,
   "id": "7a9e2d7f-f5e9-46cb-916b-89f9a9f3fba0",
   "metadata": {},
   "outputs": [],
   "source": [
    "# categorical = ['PU_DO']"
   ]
  },
  {
   "cell_type": "code",
   "execution_count": 60,
   "id": "73e9eb84-2a5c-4946-a27a-0563401631fb",
   "metadata": {},
   "outputs": [
    {
     "data": {
      "text/plain": [
       "(1109826, 525)"
      ]
     },
     "execution_count": 60,
     "metadata": {},
     "output_type": "execute_result"
    }
   ],
   "source": [
    "dv = DictVectorizer()\n",
    "\n",
    "X_train = dv.fit_transform(train_df_filtered[categorical].to_dict(orient='records'))\n",
    "y_train = train_df_filtered['duration_min'].values\n",
    "X_train.shape"
   ]
  },
  {
   "cell_type": "markdown",
   "id": "c713f478-4fa5-4204-8e0c-04c1176ab1e1",
   "metadata": {},
   "source": [
    "### Q5. Training a model\n",
    "Now let's use the feature matrix from the previous step to train a model.\n",
    "\n",
    "Train a plain linear regression model with default parameters\n",
    "Calculate the RMSE of the model on the training data\n",
    "What's the RMSE on train?"
   ]
  },
  {
   "cell_type": "code",
   "execution_count": 61,
   "id": "116ff0cc",
   "metadata": {},
   "outputs": [
    {
     "name": "stdout",
     "output_type": "stream",
     "text": [
      "RMSE: 10.528519433270043\n",
      "CPU times: user 2.02 s, sys: 364 ms, total: 2.39 s\n",
      "Wall time: 2.39 s\n"
     ]
    }
   ],
   "source": [
    "%%time\n",
    "model = LinearRegression()\n",
    "\n",
    "model.fit(X_train, y_train)\n",
    "\n",
    "y_pred_train = model.predict(X_train)\n",
    "\n",
    "# train_loss = np.sqrt(mean_squared_error(y_train, y_pred_train))\n",
    "\n",
    "train_loss = mean_squared_error(y_train, y_pred_train, squared=False)\n",
    "\n",
    "print(f'RMSE: {train_loss}')"
   ]
  },
  {
   "cell_type": "markdown",
   "id": "46e04836-21a0-4104-90a6-0b9b921d4095",
   "metadata": {},
   "source": [
    "### Q6. Evaluating the model\n",
    "Now let's apply this model to the validation dataset.\n",
    "\n",
    "What's the RMSE on validation?"
   ]
  },
  {
   "cell_type": "code",
   "execution_count": 69,
   "id": "97b32b03-d654-46b5-a5a6-95dbfa3799ac",
   "metadata": {},
   "outputs": [],
   "source": [
    "def transform_data(df):\n",
    "    df['duration'] = df['dropOff_datetime'] - df['pickup_datetime']\n",
    "    df['duration_min'] = df['duration'].dt.total_seconds() / 60\n",
    "    \n",
    "    df[categorical] = df[categorical].fillna(-1).astype('str')\n",
    "    \n",
    "    df = df.query('duration_min >= 1. and duration_min <= 60.')\n",
    "\n",
    "    return df"
   ]
  },
  {
   "cell_type": "code",
   "execution_count": 70,
   "id": "43099f04-ecd1-497e-92e0-9f67fcc133de",
   "metadata": {},
   "outputs": [],
   "source": [
    "val_df = transform_data(val_df)"
   ]
  },
  {
   "cell_type": "code",
   "execution_count": 71,
   "id": "4fcb5478-c5a4-4c32-be59-cd96bdeb1c6f",
   "metadata": {},
   "outputs": [
    {
     "data": {
      "text/html": [
       "<div>\n",
       "<style scoped>\n",
       "    .dataframe tbody tr th:only-of-type {\n",
       "        vertical-align: middle;\n",
       "    }\n",
       "\n",
       "    .dataframe tbody tr th {\n",
       "        vertical-align: top;\n",
       "    }\n",
       "\n",
       "    .dataframe thead th {\n",
       "        text-align: right;\n",
       "    }\n",
       "</style>\n",
       "<table border=\"1\" class=\"dataframe\">\n",
       "  <thead>\n",
       "    <tr style=\"text-align: right;\">\n",
       "      <th></th>\n",
       "      <th>dispatching_base_num</th>\n",
       "      <th>pickup_datetime</th>\n",
       "      <th>dropOff_datetime</th>\n",
       "      <th>PUlocationID</th>\n",
       "      <th>DOlocationID</th>\n",
       "      <th>SR_Flag</th>\n",
       "      <th>Affiliated_base_number</th>\n",
       "      <th>duration</th>\n",
       "      <th>duration_min</th>\n",
       "    </tr>\n",
       "  </thead>\n",
       "  <tbody>\n",
       "    <tr>\n",
       "      <th>1</th>\n",
       "      <td>B00021</td>\n",
       "      <td>2021-02-01 00:55:40</td>\n",
       "      <td>2021-02-01 01:06:20</td>\n",
       "      <td>173.0</td>\n",
       "      <td>82.0</td>\n",
       "      <td>None</td>\n",
       "      <td>B00021</td>\n",
       "      <td>0 days 00:10:40</td>\n",
       "      <td>10.666667</td>\n",
       "    </tr>\n",
       "    <tr>\n",
       "      <th>2</th>\n",
       "      <td>B00021</td>\n",
       "      <td>2021-02-01 00:14:03</td>\n",
       "      <td>2021-02-01 00:28:37</td>\n",
       "      <td>173.0</td>\n",
       "      <td>56.0</td>\n",
       "      <td>None</td>\n",
       "      <td>B00021</td>\n",
       "      <td>0 days 00:14:34</td>\n",
       "      <td>14.566667</td>\n",
       "    </tr>\n",
       "    <tr>\n",
       "      <th>3</th>\n",
       "      <td>B00021</td>\n",
       "      <td>2021-02-01 00:27:48</td>\n",
       "      <td>2021-02-01 00:35:45</td>\n",
       "      <td>82.0</td>\n",
       "      <td>129.0</td>\n",
       "      <td>None</td>\n",
       "      <td>B00021</td>\n",
       "      <td>0 days 00:07:57</td>\n",
       "      <td>7.950000</td>\n",
       "    </tr>\n",
       "    <tr>\n",
       "      <th>4</th>\n",
       "      <td>B00037</td>\n",
       "      <td>2021-02-01 00:12:50</td>\n",
       "      <td>2021-02-01 00:26:38</td>\n",
       "      <td>-1.0</td>\n",
       "      <td>225.0</td>\n",
       "      <td>None</td>\n",
       "      <td>B00037</td>\n",
       "      <td>0 days 00:13:48</td>\n",
       "      <td>13.800000</td>\n",
       "    </tr>\n",
       "    <tr>\n",
       "      <th>5</th>\n",
       "      <td>B00037</td>\n",
       "      <td>2021-02-01 00:00:37</td>\n",
       "      <td>2021-02-01 00:09:35</td>\n",
       "      <td>-1.0</td>\n",
       "      <td>61.0</td>\n",
       "      <td>None</td>\n",
       "      <td>B00037</td>\n",
       "      <td>0 days 00:08:58</td>\n",
       "      <td>8.966667</td>\n",
       "    </tr>\n",
       "  </tbody>\n",
       "</table>\n",
       "</div>"
      ],
      "text/plain": [
       "  dispatching_base_num     pickup_datetime    dropOff_datetime PUlocationID  \\\n",
       "1      B00021          2021-02-01 00:55:40 2021-02-01 01:06:20        173.0   \n",
       "2      B00021          2021-02-01 00:14:03 2021-02-01 00:28:37        173.0   \n",
       "3      B00021          2021-02-01 00:27:48 2021-02-01 00:35:45         82.0   \n",
       "4               B00037 2021-02-01 00:12:50 2021-02-01 00:26:38         -1.0   \n",
       "5               B00037 2021-02-01 00:00:37 2021-02-01 00:09:35         -1.0   \n",
       "\n",
       "  DOlocationID SR_Flag Affiliated_base_number        duration  duration_min  \n",
       "1         82.0    None        B00021          0 days 00:10:40     10.666667  \n",
       "2         56.0    None        B00021          0 days 00:14:34     14.566667  \n",
       "3        129.0    None        B00021          0 days 00:07:57      7.950000  \n",
       "4        225.0    None                 B00037 0 days 00:13:48     13.800000  \n",
       "5         61.0    None                 B00037 0 days 00:08:58      8.966667  "
      ]
     },
     "execution_count": 71,
     "metadata": {},
     "output_type": "execute_result"
    }
   ],
   "source": [
    "val_df.head()"
   ]
  },
  {
   "cell_type": "code",
   "execution_count": 72,
   "id": "6716edc3-68e0-48a9-8a1c-e6bb0c386c41",
   "metadata": {},
   "outputs": [
    {
     "name": "stdout",
     "output_type": "stream",
     "text": [
      "CPU times: user 1.86 s, sys: 70.1 ms, total: 1.93 s\n",
      "Wall time: 1.93 s\n"
     ]
    },
    {
     "data": {
      "text/plain": [
       "(990113, 525)"
      ]
     },
     "execution_count": 72,
     "metadata": {},
     "output_type": "execute_result"
    }
   ],
   "source": [
    "%%time\n",
    "\n",
    "X_val = dv.transform(val_df[categorical].to_dict(orient='records'))\n",
    "y_val = val_df['duration_min'].values\n",
    "X_val.shape"
   ]
  },
  {
   "cell_type": "code",
   "execution_count": 73,
   "id": "f762b8ec-3344-44cf-b597-41ad11f5e736",
   "metadata": {},
   "outputs": [
    {
     "name": "stdout",
     "output_type": "stream",
     "text": [
      "RMSE: 11.01428568518046\n",
      "CPU times: user 9.57 ms, sys: 5.34 ms, total: 14.9 ms\n",
      "Wall time: 24.7 ms\n"
     ]
    }
   ],
   "source": [
    "%%time\n",
    "\n",
    "y_pred = model.predict(X_val)\n",
    "\n",
    "val_loss = mean_squared_error(y_val, y_pred, squared=False)\n",
    "\n",
    "print(f'RMSE: {val_loss}')"
   ]
  }
 ],
 "metadata": {
  "kernelspec": {
   "display_name": "Python 3 (ipykernel)",
   "language": "python",
   "name": "python3"
  },
  "language_info": {
   "codemirror_mode": {
    "name": "ipython",
    "version": 3
   },
   "file_extension": ".py",
   "mimetype": "text/x-python",
   "name": "python",
   "nbconvert_exporter": "python",
   "pygments_lexer": "ipython3",
   "version": "3.9.10"
  }
 },
 "nbformat": 4,
 "nbformat_minor": 5
}
